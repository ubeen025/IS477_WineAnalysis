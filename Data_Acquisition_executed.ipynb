{
 "cells": [
  {
   "cell_type": "code",
   "execution_count": 1,
   "metadata": {
    "execution": {
     "iopub.execute_input": "2024-05-01T03:28:21.791550Z",
     "iopub.status.busy": "2024-05-01T03:28:21.791040Z",
     "iopub.status.idle": "2024-05-01T03:28:21.804386Z",
     "shell.execute_reply": "2024-05-01T03:28:21.802278Z"
    }
   },
   "outputs": [],
   "source": [
    "# Importing Necessary Libraries to compete data acquisition\n",
    "import os\n",
    "import hashlib\n",
    "import subprocess"
   ]
  },
  {
   "cell_type": "code",
   "execution_count": 2,
   "metadata": {
    "execution": {
     "iopub.execute_input": "2024-05-01T03:28:21.810996Z",
     "iopub.status.busy": "2024-05-01T03:28:21.810341Z",
     "iopub.status.idle": "2024-05-01T03:28:29.646362Z",
     "shell.execute_reply": "2024-05-01T03:28:29.645167Z"
    }
   },
   "outputs": [
    {
     "name": "stdout",
     "output_type": "stream",
     "text": [
      "Dataset URL: https://www.kaggle.com/datasets/zynicide/wine-reviews\n",
      "License(s): CC-BY-NC-SA-4.0\n",
      "Downloading wine-reviews.zip to data\n"
     ]
    },
    {
     "name": "stderr",
     "output_type": "stream",
     "text": [
      "100%|██████████| 50.9M/50.9M [00:02<00:00, 19.7MB/s]\n"
     ]
    },
    {
     "name": "stdout",
     "output_type": "stream",
     "text": [
      "\n",
      "SHA256 hash written to data/winemag-data-130k-v2.csv.sha\n",
      "SHA256 hash written to data/winemag-data-130k-v2.json.sha\n",
      "SHA256 hash written to data/winemag-data_first150k.csv.sha\n",
      "Dataset URL: https://www.kaggle.com/datasets/elvinrustam/wine-dataset\n",
      "License(s): CC0-1.0\n",
      "Downloading wine-dataset.zip to data\n",
      "\n",
      "SHA256 hash written to data/WineDataset.csv.sha\n"
     ]
    },
    {
     "name": "stderr",
     "output_type": "stream",
     "text": [
      "100%|██████████| 308k/308k [00:00<00:00, 5.61MB/s]\n"
     ]
    },
    {
     "name": "stdout",
     "output_type": "stream",
     "text": [
      "SHA256 hash written to data/winemag-data-130k-v2.csv.sha\n",
      "SHA256 hash written to data/winemag-data-130k-v2.json.sha\n",
      "SHA256 hash written to data/winemag-data_first150k.csv.sha\n"
     ]
    }
   ],
   "source": [
    "def write_sha256_hash(file_path, sha_file_path):\n",
    "    \"\"\"Compute SHA256 hash of a file and write it to a .sha file.\"\"\"\n",
    "    with open(file_path, \"rb\") as f:\n",
    "        file_content = f.read()\n",
    "        sha256hash = hashlib.sha256(file_content).hexdigest()\n",
    "\n",
    "    with open(sha_file_path, \"w\") as f:\n",
    "        f.write(sha256hash)\n",
    "    print(f\"SHA256 hash written to {sha_file_path}\")\n",
    "\n",
    "# Function to download, move, unzip datasets and check their SHA hash\n",
    "def download_and_move_dataset(dataset_identifier, dataset_directory='data'):\n",
    "    # Extract dataset name from the identifier\n",
    "    dataset_name = dataset_identifier.split('/')[-1]\n",
    "    \n",
    "    # Kaggle command to download dataset to the specified path\n",
    "    subprocess.run(['kaggle', 'datasets', 'download', '-d', dataset_identifier, '--path', dataset_directory, '--unzip'], check=True)\n",
    "    \n",
    "    # The dataset might contain multiple files, so we calculate the SHA hash for each\n",
    "    for filename in os.listdir(dataset_directory):\n",
    "        # Check if the filename ends with typical file formats instead\n",
    "        if filename.endswith(('.csv', '.json')):\n",
    "            file_path = os.path.join(dataset_directory, filename)\n",
    "            sha_file_path = os.path.join(dataset_directory, f\"{filename}.sha\")\n",
    "            write_sha256_hash(file_path, sha_file_path)\n",
    "\n",
    "datasets = ['zynicide/wine-reviews', 'elvinrustam/wine-dataset']\n",
    "for dataset in datasets:\n",
    "    download_and_move_dataset(dataset)"
   ]
  }
 ],
 "metadata": {
  "kernelspec": {
   "display_name": "base",
   "language": "python",
   "name": "python3"
  },
  "language_info": {
   "codemirror_mode": {
    "name": "ipython",
    "version": 3
   },
   "file_extension": ".py",
   "mimetype": "text/x-python",
   "name": "python",
   "nbconvert_exporter": "python",
   "pygments_lexer": "ipython3",
   "version": "3.11.4"
  }
 },
 "nbformat": 4,
 "nbformat_minor": 2
}
