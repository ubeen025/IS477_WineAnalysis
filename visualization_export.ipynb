{
 "cells": [
  {
   "cell_type": "code",
   "execution_count": 2,
   "metadata": {},
   "outputs": [],
   "source": [
    "import nbformat\n",
    "import os\n",
    "import base64\n",
    "from pathlib import Path"
   ]
  },
  {
   "cell_type": "code",
   "execution_count": 3,
   "metadata": {},
   "outputs": [],
   "source": [
    "Path('Visualization Results').mkdir(parents=True, exist_ok=True)"
   ]
  },
  {
   "cell_type": "code",
   "execution_count": 4,
   "metadata": {},
   "outputs": [
    {
     "name": "stdout",
     "output_type": "stream",
     "text": [
      "Saved Visualization Results/image_1.png\n",
      "Saved Visualization Results/image_2.png\n",
      "Saved Visualization Results/image_3.png\n",
      "Saved Visualization Results/image_4.png\n",
      "Saved Visualization Results/image_5.png\n",
      "Saved Visualization Results/image_6.png\n"
     ]
    }
   ],
   "source": [
    "def extract_images_from_notebook(notebook_path, output_folder):\n",
    "    # Load the notebook\n",
    "    with open(notebook_path, 'r', encoding='utf-8') as f:\n",
    "        nb = nbformat.read(f, as_version=4)\n",
    "\n",
    "    # Create the output folder if it doesn't exist\n",
    "    Path(output_folder).mkdir(parents=True, exist_ok=True)\n",
    "\n",
    "    # Loop through all cells and look for outputs containing images in base64 format\n",
    "    image_counter = 1\n",
    "    for cell in nb['cells']:\n",
    "        if cell['cell_type'] == 'code':\n",
    "            for output in cell.get('outputs', []):\n",
    "                if output['output_type'] == 'display_data':\n",
    "                    for mime_type, content in output['data'].items():\n",
    "                        if mime_type.startswith('image'):\n",
    "                            # Handle both cases: with and without 'data:image/png;base64,'\n",
    "                            if ',' in content:\n",
    "                                base64_data = content.split(',')[1]\n",
    "                            else:\n",
    "                                base64_data = content\n",
    "                            try:\n",
    "                                image_data = base64.b64decode(base64_data)\n",
    "                                image_path = os.path.join(output_folder, f'image_{image_counter}.png')\n",
    "                                with open(image_path, 'wb') as img_f:\n",
    "                                    img_f.write(image_data)\n",
    "                                print(f'Saved {image_path}')\n",
    "                                image_counter += 1\n",
    "                            except Exception as e:\n",
    "                                print(f'Error decoding base64 data: {str(e)}')\n",
    "\n",
    "# Example usage\n",
    "notebook_path = 'analysis.ipynb'\n",
    "output_folder = 'Visualization Results'  \n",
    "extract_images_from_notebook(notebook_path, output_folder)"
   ]
  }
 ],
 "metadata": {
  "kernelspec": {
   "display_name": "Python 3",
   "language": "python",
   "name": "python3"
  },
  "language_info": {
   "codemirror_mode": {
    "name": "ipython",
    "version": 3
   },
   "file_extension": ".py",
   "mimetype": "text/x-python",
   "name": "python",
   "nbconvert_exporter": "python",
   "pygments_lexer": "ipython3",
   "version": "3.11.4"
  }
 },
 "nbformat": 4,
 "nbformat_minor": 2
}
